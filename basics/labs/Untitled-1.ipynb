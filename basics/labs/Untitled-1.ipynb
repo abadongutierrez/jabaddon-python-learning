{
 "cells": [
  {
   "cell_type": "code",
   "execution_count": null,
   "id": "d75cdd4f",
   "metadata": {},
   "outputs": [
    {
     "ename": "",
     "evalue": "",
     "output_type": "error",
     "traceback": [
      "\u001b[1;31mRunning cells with 'python-learning-basics-S1MXxZDV-py3.13 (Python 3.13.5)' requires the ipykernel package.\n",
      "\u001b[1;31mInstall 'ipykernel' into the Python environment. \n",
      "\u001b[1;31mCommand: '/Users/rafael.gutierrez/Library/Caches/pypoetry/virtualenvs/python-learning-basics-S1MXxZDV-py3.13/bin/python -m pip install ipykernel -U --force-reinstall'"
     ]
    }
   ],
   "source": [
    "import pandas as pd\n",
    "import matplotlib.pyplot as plt\n"
   ]
  }
 ],
 "metadata": {
  "kernelspec": {
   "display_name": "python-learning-basics-S1MXxZDV-py3.13",
   "language": "python",
   "name": "python3"
  },
  "language_info": {
   "name": "python",
   "version": "3.13.5"
  }
 },
 "nbformat": 4,
 "nbformat_minor": 5
}
