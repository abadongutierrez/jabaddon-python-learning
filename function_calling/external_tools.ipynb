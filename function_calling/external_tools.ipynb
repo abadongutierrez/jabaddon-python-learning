{
 "cells": [
  {
   "cell_type": "code",
   "execution_count": 1,
   "metadata": {},
   "outputs": [
    {
     "name": "stdout",
     "output_type": "stream",
     "text": [
      "Did you hear about the cheese factory that exploded in France?\n",
      "There was nothing but de brie.\n"
     ]
    }
   ],
   "source": [
    "import requests\n",
    "\n",
    "url = \"https://v2.jokeapi.dev/joke/Any?safe-mode&type=twopart\"\n",
    "\n",
    "response = requests.get(url)\n",
    "\n",
    "print(response.json()[\"setup\"])\n",
    "print(response.json()[\"delivery\"])"
   ]
  },
  {
   "cell_type": "code",
   "execution_count": 2,
   "metadata": {},
   "outputs": [
    {
     "data": {
      "text/plain": [
       "{'error': False,\n",
       " 'category': 'Pun',\n",
       " 'type': 'twopart',\n",
       " 'setup': 'Did you hear about the cheese factory that exploded in France?',\n",
       " 'delivery': 'There was nothing but de brie.',\n",
       " 'flags': {'nsfw': False,\n",
       "  'religious': False,\n",
       "  'political': False,\n",
       "  'racist': False,\n",
       "  'sexist': False,\n",
       "  'explicit': False},\n",
       " 'id': 64,\n",
       " 'safe': True,\n",
       " 'lang': 'en'}"
      ]
     },
     "execution_count": 2,
     "metadata": {},
     "output_type": "execute_result"
    }
   ],
   "source": [
    "response.json()\n"
   ]
  },
  {
   "cell_type": "code",
   "execution_count": 3,
   "metadata": {},
   "outputs": [],
   "source": [
    "import requests\n",
    "def give_joke(category : str):\n",
    "    \"\"\"\n",
    "    Joke categories. Supports: Any, Misc, Programming, Pun, Spooky, Christmas.\n",
    "    \"\"\"\n",
    "\n",
    "    url = f\"https://v2.jokeapi.dev/joke/{category}?safe-mode&type=twopart\"\n",
    "    response = requests.get(url)\n",
    "    print(response.json()[\"setup\"])\n",
    "    print(response.json()[\"delivery\"])"
   ]
  },
  {
   "cell_type": "code",
   "execution_count": 4,
   "metadata": {},
   "outputs": [],
   "source": [
    "USER_QUERY = \"Hey! Can you get me a joke for this december?\""
   ]
  },
  {
   "cell_type": "code",
   "execution_count": 8,
   "metadata": {},
   "outputs": [
    {
     "name": "stdout",
     "output_type": "stream",
     "text": [
      "zsh:1: command not found: wget\n"
     ]
    }
   ],
   "source": [
    "!wget https://raw.githubusercontent.com/open-meteo/open-meteo/main/openapi.yml"
   ]
  },
  {
   "cell_type": "code",
   "execution_count": 12,
   "metadata": {},
   "outputs": [
    {
     "name": "stdout",
     "output_type": "stream",
     "text": [
      "Collecting openapi-python-generator\n",
      "  Downloading openapi_python_generator-1.2.0-py3-none-any.whl.metadata (5.4 kB)\n",
      "Requirement already satisfied: Jinja2<4.0.0,>=3.1.2 in ./myvenv/lib/python3.13/site-packages (from openapi-python-generator) (3.1.6)\n",
      "Collecting black>=21.10b0 (from openapi-python-generator)\n",
      "  Downloading black-25.1.0-cp313-cp313-macosx_11_0_arm64.whl.metadata (81 kB)\n",
      "Collecting click<9.0.0,>=8.1.3 (from openapi-python-generator)\n",
      "  Downloading click-8.2.1-py3-none-any.whl.metadata (2.5 kB)\n",
      "Collecting httpx<0.24.0,>=0.23.0 (from httpx[all]<0.24.0,>=0.23.0->openapi-python-generator)\n",
      "  Downloading httpx-0.23.3-py3-none-any.whl.metadata (7.1 kB)\n",
      "Collecting isort>=5.10.1 (from openapi-python-generator)\n",
      "  Downloading isort-6.0.1-py3-none-any.whl.metadata (11 kB)\n",
      "Collecting openapi-pydantic<0.6.0,>=0.5.0 (from openapi-python-generator)\n",
      "  Downloading openapi_pydantic-0.5.1-py3-none-any.whl.metadata (10 kB)\n",
      "Collecting orjson<4.0.0,>=3.9.15 (from openapi-python-generator)\n",
      "  Downloading orjson-3.10.18-cp313-cp313-macosx_15_0_arm64.whl.metadata (41 kB)\n",
      "Requirement already satisfied: pydantic<3.0.0,>=2.10.2 in ./myvenv/lib/python3.13/site-packages (from openapi-python-generator) (2.11.5)\n",
      "Requirement already satisfied: pyyaml<7.0.0,>=6.0.2 in ./myvenv/lib/python3.13/site-packages (from openapi-python-generator) (6.0.2)\n",
      "Requirement already satisfied: certifi in ./myvenv/lib/python3.13/site-packages (from httpx<0.24.0,>=0.23.0->httpx[all]<0.24.0,>=0.23.0->openapi-python-generator) (2025.4.26)\n",
      "Collecting httpcore<0.17.0,>=0.15.0 (from httpx<0.24.0,>=0.23.0->httpx[all]<0.24.0,>=0.23.0->openapi-python-generator)\n",
      "  Downloading httpcore-0.16.3-py3-none-any.whl.metadata (16 kB)\n",
      "Collecting rfc3986<2,>=1.3 (from rfc3986[idna2008]<2,>=1.3->httpx<0.24.0,>=0.23.0->httpx[all]<0.24.0,>=0.23.0->openapi-python-generator)\n",
      "  Downloading rfc3986-1.5.0-py2.py3-none-any.whl.metadata (6.5 kB)\n",
      "Requirement already satisfied: sniffio in ./myvenv/lib/python3.13/site-packages (from httpx<0.24.0,>=0.23.0->httpx[all]<0.24.0,>=0.23.0->openapi-python-generator) (1.3.1)\n",
      "Collecting h11<0.15,>=0.13 (from httpcore<0.17.0,>=0.15.0->httpx<0.24.0,>=0.23.0->httpx[all]<0.24.0,>=0.23.0->openapi-python-generator)\n",
      "  Downloading h11-0.14.0-py3-none-any.whl.metadata (8.2 kB)\n",
      "Requirement already satisfied: anyio<5.0,>=3.0 in ./myvenv/lib/python3.13/site-packages (from httpcore<0.17.0,>=0.15.0->httpx<0.24.0,>=0.23.0->httpx[all]<0.24.0,>=0.23.0->openapi-python-generator) (4.9.0)\n",
      "Requirement already satisfied: idna>=2.8 in ./myvenv/lib/python3.13/site-packages (from anyio<5.0,>=3.0->httpcore<0.17.0,>=0.15.0->httpx<0.24.0,>=0.23.0->httpx[all]<0.24.0,>=0.23.0->openapi-python-generator) (3.10)\n",
      "\u001b[33mWARNING: httpx 0.23.3 does not provide the extra 'all'\u001b[0m\u001b[33m\n",
      "\u001b[0mRequirement already satisfied: MarkupSafe>=2.0 in ./myvenv/lib/python3.13/site-packages (from Jinja2<4.0.0,>=3.1.2->openapi-python-generator) (3.0.2)\n",
      "Requirement already satisfied: annotated-types>=0.6.0 in ./myvenv/lib/python3.13/site-packages (from pydantic<3.0.0,>=2.10.2->openapi-python-generator) (0.7.0)\n",
      "Requirement already satisfied: pydantic-core==2.33.2 in ./myvenv/lib/python3.13/site-packages (from pydantic<3.0.0,>=2.10.2->openapi-python-generator) (2.33.2)\n",
      "Requirement already satisfied: typing-extensions>=4.12.2 in ./myvenv/lib/python3.13/site-packages (from pydantic<3.0.0,>=2.10.2->openapi-python-generator) (4.14.0)\n",
      "Requirement already satisfied: typing-inspection>=0.4.0 in ./myvenv/lib/python3.13/site-packages (from pydantic<3.0.0,>=2.10.2->openapi-python-generator) (0.4.1)\n",
      "Collecting mypy-extensions>=0.4.3 (from black>=21.10b0->openapi-python-generator)\n",
      "  Downloading mypy_extensions-1.1.0-py3-none-any.whl.metadata (1.1 kB)\n",
      "Requirement already satisfied: packaging>=22.0 in ./myvenv/lib/python3.13/site-packages (from black>=21.10b0->openapi-python-generator) (25.0)\n",
      "Collecting pathspec>=0.9.0 (from black>=21.10b0->openapi-python-generator)\n",
      "  Downloading pathspec-0.12.1-py3-none-any.whl.metadata (21 kB)\n",
      "Requirement already satisfied: platformdirs>=2 in ./myvenv/lib/python3.13/site-packages (from black>=21.10b0->openapi-python-generator) (4.3.8)\n",
      "Downloading openapi_python_generator-1.2.0-py3-none-any.whl (25 kB)\n",
      "Downloading click-8.2.1-py3-none-any.whl (102 kB)\n",
      "Downloading httpx-0.23.3-py3-none-any.whl (71 kB)\n",
      "Downloading httpcore-0.16.3-py3-none-any.whl (69 kB)\n",
      "Downloading h11-0.14.0-py3-none-any.whl (58 kB)\n",
      "Downloading openapi_pydantic-0.5.1-py3-none-any.whl (96 kB)\n",
      "Downloading orjson-3.10.18-cp313-cp313-macosx_15_0_arm64.whl (133 kB)\n",
      "Downloading rfc3986-1.5.0-py2.py3-none-any.whl (31 kB)\n",
      "Downloading black-25.1.0-cp313-cp313-macosx_11_0_arm64.whl (1.5 MB)\n",
      "\u001b[2K   \u001b[38;2;114;156;31m━━━━━━━━━━━━━━━━━━━━━━━━━━━━━━━━━━━━━━━━\u001b[0m \u001b[32m1.5/1.5 MB\u001b[0m \u001b[31m3.2 MB/s\u001b[0m eta \u001b[36m0:00:00\u001b[0m[31m2.7 MB/s\u001b[0m eta \u001b[36m0:00:01\u001b[0m\n",
      "\u001b[?25hDownloading isort-6.0.1-py3-none-any.whl (94 kB)\n",
      "Downloading mypy_extensions-1.1.0-py3-none-any.whl (5.0 kB)\n",
      "Downloading pathspec-0.12.1-py3-none-any.whl (31 kB)\n",
      "Installing collected packages: rfc3986, pathspec, orjson, mypy-extensions, isort, h11, click, httpcore, black, openapi-pydantic, httpx, openapi-python-generator\n",
      "\u001b[2K  Attempting uninstall: h11━━━━━━━\u001b[0m\u001b[38;5;237m╺\u001b[0m\u001b[38;5;237m━━━━━━━━━━━━━━━━━━━━━━━━━━\u001b[0m \u001b[32m 4/12\u001b[0m [isort]\n",
      "\u001b[2K    Found existing installation: h11 0.16.07m╺\u001b[0m\u001b[38;5;237m━━━━━━━━━━━━━━━━━━━━━━━━━━\u001b[0m \u001b[32m 4/12\u001b[0m [isort]\n",
      "\u001b[2K    Uninstalling h11-0.16.0:━━\u001b[0m\u001b[38;5;237m╺\u001b[0m\u001b[38;5;237m━━━━━━━━━━━━━━━━━━━━━━━━━━\u001b[0m \u001b[32m 4/12\u001b[0m [isort]\n",
      "\u001b[2K      Successfully uninstalled h11-0.16.0237m╺\u001b[0m\u001b[38;5;237m━━━━━━━━━━━━━━━━━━━━━━━━━━\u001b[0m \u001b[32m 4/12\u001b[0m [isort]\n",
      "\u001b[2K  Attempting uninstall: httpcore━━━━━\u001b[0m\u001b[38;2;249;38;114m╸\u001b[0m\u001b[38;5;237m━━━━━━━━━━━━━━━━━━━━━━━\u001b[0m \u001b[32m 5/12\u001b[0m [h11]\n",
      "\u001b[2K    Found existing installation: httpcore 1.0.9;38;114m╸\u001b[0m\u001b[38;5;237m━━━━━━━━━━━━━━━━━━━━━━━\u001b[0m \u001b[32m 5/12\u001b[0m [h11]\n",
      "\u001b[2K    Uninstalling httpcore-1.0.9:━\u001b[0m\u001b[38;2;249;38;114m╸\u001b[0m\u001b[38;5;237m━━━━━━━━━━━━━━━━━━━━━━━\u001b[0m \u001b[32m 5/12\u001b[0m [h11]\n",
      "\u001b[2K      Successfully uninstalled httpcore-1.0.949;38;114m╸\u001b[0m\u001b[38;5;237m━━━━━━━━━━━━━━━━━━━━━━━\u001b[0m \u001b[32m 5/12\u001b[0m [h11]\n",
      "\u001b[2K  Attempting uninstall: httpx━━━━━━━━━━━━━━━━━━━━━━\u001b[0m\u001b[38;5;237m╺\u001b[0m\u001b[38;5;237m━━━━━━━━━\u001b[0m \u001b[32m 9/12\u001b[0m [openapi-pydantic]\n",
      "\u001b[2K    Found existing installation: httpx 0.28.1━━\u001b[0m\u001b[38;5;237m╺\u001b[0m\u001b[38;5;237m━━━━━━━━━\u001b[0m \u001b[32m 9/12\u001b[0m [openapi-pydantic]\n",
      "\u001b[2K    Uninstalling httpx-0.28.1:━━━━━━━━━━━━━━━━━\u001b[0m\u001b[38;5;237m╺\u001b[0m\u001b[38;5;237m━━━━━━━━━\u001b[0m \u001b[32m 9/12\u001b[0m [openapi-pydantic]\n",
      "\u001b[2K      Successfully uninstalled httpx-0.28.1━━━━\u001b[0m\u001b[38;5;237m╺\u001b[0m\u001b[38;5;237m━━━━━━━━━\u001b[0m \u001b[32m 9/12\u001b[0m [openapi-pydantic]\n",
      "\u001b[2K   \u001b[38;2;114;156;31m━━━━━━━━━━━━━━━━━━━━━━━━━━━━━━━━━━━━━━━━\u001b[0m \u001b[32m12/12\u001b[0m [openapi-python-generator][0m [httpx]dantic]\n",
      "\u001b[1A\u001b[2K\u001b[31mERROR: pip's dependency resolver does not currently take into account all the packages that are installed. This behaviour is the source of the following dependency conflicts.\n",
      "jupyterlab 4.4.3 requires httpx>=0.25.0, but you have httpx 0.23.3 which is incompatible.\u001b[0m\u001b[31m\n",
      "\u001b[0mSuccessfully installed black-25.1.0 click-8.2.1 h11-0.14.0 httpcore-0.16.3 httpx-0.23.3 isort-6.0.1 mypy-extensions-1.1.0 openapi-pydantic-0.5.1 openapi-python-generator-1.2.0 orjson-3.10.18 pathspec-0.12.1 rfc3986-1.5.0\n",
      "Note: you may need to restart the kernel to use updated packages.\n"
     ]
    }
   ],
   "source": [
    "pip install openapi-python-generator"
   ]
  },
  {
   "cell_type": "code",
   "execution_count": 15,
   "metadata": {},
   "outputs": [],
   "source": [
    "import yaml\n",
    "import json\n",
    "\n",
    "# Read the content of the file\n",
    "with open('openapi.yml', 'r') as file:\n",
    "    file_content = file.read()\n",
    "file_content = file_content.replace(\"int\\n\", \"number\\n\")\n",
    "file_content = file_content.replace(\"float\\n\", \"number\\n\")\n",
    "data = yaml.safe_load(file_content)\n",
    "\n",
    "data[\"servers\"] = [{\"url\":\"https://api.open-meteo.com\"}]\n",
    "\n",
    "with open('openapi.json', 'w') as file:\n",
    "    json_content = json.dump(data, file)"
   ]
  },
  {
   "cell_type": "code",
   "execution_count": 17,
   "metadata": {},
   "outputs": [
    {
     "name": "stdout",
     "output_type": "stream",
     "text": [
      "Generating data from openapi.json\n"
     ]
    }
   ],
   "source": [
    "#!openapi-python-generator openapi.json ./api_specification_main/"
   ]
  },
  {
   "cell_type": "code",
   "execution_count": 18,
   "metadata": {},
   "outputs": [],
   "source": [
    "from api_specification_main.services.WeatherForecastAPIs_service\\\n",
    "    import get_v1forecast"
   ]
  },
  {
   "cell_type": "code",
   "execution_count": 19,
   "metadata": {},
   "outputs": [],
   "source": [
    "user_query = \"Hey how is the current weather and windspeed in New York?\""
   ]
  },
  {
   "cell_type": "code",
   "execution_count": 20,
   "metadata": {},
   "outputs": [
    {
     "name": "stdout",
     "output_type": "stream",
     "text": [
      "None\n"
     ]
    }
   ],
   "source": [
    "print(get_v1forecast.__doc__)"
   ]
  },
  {
   "cell_type": "code",
   "execution_count": 51,
   "metadata": {},
   "outputs": [
    {
     "name": "stdout",
     "output_type": "stream",
     "text": [
      "{'type': 'function', 'function': {'name': 'get_v1forecast', 'description': 'Get a 7-day weather forecast for specific coordinates. This function provides detailed weather information including temperature, humidity, wind, precipitation, and more. The forecast is available in both hourly and daily resolutions.', 'parameters': {'type': 'object', 'properties': {'latitude': {'type': 'number', 'description': 'WGS84 latitude coordinate (-90 to 90 degrees)'}, 'longitude': {'type': 'number', 'description': 'WGS84 longitude coordinate (-180 to 180 degrees)'}, 'hourly': {'type': 'array', 'items': {'type': 'string', 'enum': ['temperature_2m', 'relative_humidity_2m', 'dew_point_2m', 'apparent_temperature', 'pressure_msl', 'cloud_cover', 'wind_speed_10m', 'wind_direction_10m', 'wind_gusts_10m', 'precipitation', 'weather_code', 'snow_height']}, 'description': 'List of hourly weather variables to include in the response'}, 'daily': {'type': 'array', 'items': {'type': 'string', 'enum': ['temperature_2m_max', 'temperature_2m_min', 'apparent_temperature_max', 'apparent_temperature_min', 'precipitation_sum', 'precipitation_hours', 'weather_code', 'sunrise', 'sunset', 'wind_speed_10m_max', 'wind_gusts_10m_max', 'wind_direction_10m_dominant']}, 'description': 'List of daily weather variables to include in the response'}, 'current_weather': {'type': 'boolean', 'description': 'Include current weather conditions in the response. True or False (as python boolean)'}, 'temperature_unit': {'type': 'string', 'enum': ['celsius', 'fahrenheit'], 'description': 'Unit for temperature values', 'default': 'celsius'}, 'wind_speed_unit': {'type': 'string', 'enum': ['kmh', 'ms', 'mph', 'kn'], 'description': 'Unit for wind speed values', 'default': 'kmh'}, 'timezone': {'type': 'string', 'description': \"Time zone for the response data (e.g., 'America/New_York', 'Europe/London')\"}, 'past_days': {'type': 'integer', 'enum': [1, 2], 'description': 'Include weather data for past days (1 or 2 days)'}}, 'required': ['latitude', 'longitude']}}}\n"
     ]
    }
   ],
   "source": [
    "# load function_description.json\n",
    "with open('function_description.json', 'r') as file:\n",
    "    function_description = json.load(file)\n",
    "\n",
    "print(function_description)\n",
    "\n"
   ]
  },
  {
   "cell_type": "code",
   "execution_count": 52,
   "metadata": {},
   "outputs": [],
   "source": [
    "import json\n",
    "from openai import OpenAI\n",
    "from dotenv import load_dotenv\n",
    "import os\n",
    "\n",
    "_ = load_dotenv()\n",
    "\n",
    "def query_openai(msg, functions=None):\n",
    "  load_dotenv()\n",
    "  GPT_MODEL = \"gpt-3.5-turbo\"\n",
    "\n",
    "  openai_client = OpenAI(api_key=os.environ[\"INTERNAL_OPENAI_API_KEY\"])\n",
    "  openai_response = openai_client.chat.completions.create(\n",
    "    model = GPT_MODEL,\n",
    "    messages = [{'role': 'user', 'content': msg}],\n",
    "    tools = functions)\n",
    "  return openai_response"
   ]
  },
  {
   "cell_type": "code",
   "execution_count": 53,
   "metadata": {},
   "outputs": [],
   "source": [
    "openai_msg = \\\n",
    "\"Hey how is the current weather and windspeed in New York?\""
   ]
  },
  {
   "cell_type": "code",
   "execution_count": 65,
   "metadata": {},
   "outputs": [
    {
     "name": "stdout",
     "output_type": "stream",
     "text": [
      "Function(arguments='{\"latitude\":40.7128,\"longitude\":-74.006,\"current_weather\":true,\"temperature_unit\":\"celsius\",\"wind_speed_unit\":\"kmh\",\"timezone\":\"America/New_York\"}', name='get_v1forecast')\n"
     ]
    }
   ],
   "source": [
    "result = query_openai(openai_msg, functions=[function_description])\n",
    "print (result.choices[0].message.tool_calls[0].function)"
   ]
  },
  {
   "cell_type": "code",
   "execution_count": 70,
   "metadata": {},
   "outputs": [
    {
     "name": "stdout",
     "output_type": "stream",
     "text": [
      "get_v1forecast(**{\"latitude\":40.7128,\"longitude\":-74.006,\"current_weather\":True,\"temperature_unit\":\"celsius\",\"wind_speed_unit\":\"kmh\",\"timezone\":\"America/New_York\"})\n"
     ]
    }
   ],
   "source": [
    "tool_name = result.choices[0].message.tool_calls[0].function.name\n",
    "tool_args = result.choices[0].message.tool_calls[0].function.arguments\n",
    "function_call = f\"{tool_name}(**{tool_args})\"\n",
    "# change true to True, or false to False\n",
    "function_call = function_call.replace(\"true\", \"True\").replace(\"false\", \"False\")\n",
    "print (function_call)"
   ]
  },
  {
   "cell_type": "code",
   "execution_count": 73,
   "metadata": {},
   "outputs": [
    {
     "name": "stdout",
     "output_type": "stream",
     "text": [
      "{'latitude': 40.710335, 'longitude': -73.99309, 'generationtime_ms': 0.12433528900146484, 'utc_offset_seconds': -14400, 'timezone': 'America/New_York', 'timezone_abbreviation': 'GMT-4', 'elevation': 32.0, 'current_weather_units': {'time': 'iso8601', 'interval': 'seconds', 'temperature': '°C', 'windspeed': 'km/h', 'winddirection': '°', 'is_day': '', 'weathercode': 'wmo code'}, 'current_weather': {'time': '2025-06-09T23:30', 'interval': 900, 'temperature': 16.7, 'windspeed': 4.0, 'winddirection': 355, 'is_day': 0, 'weathercode': 3}}\n"
     ]
    }
   ],
   "source": [
    "from api_specification_main.services.WeatherForecastAPIs_service\\\n",
    "    import get_v1forecast\n",
    "\n",
    "# Call the function directly with the parsed arguments\n",
    "response = get_v1forecast(**json.loads(result.choices[0].message.tool_calls[0].function.arguments))\n",
    "print(response)"
   ]
  }
 ],
 "metadata": {
  "kernelspec": {
   "display_name": "myvenv",
   "language": "python",
   "name": "python3"
  },
  "language_info": {
   "codemirror_mode": {
    "name": "ipython",
    "version": 3
   },
   "file_extension": ".py",
   "mimetype": "text/x-python",
   "name": "python",
   "nbconvert_exporter": "python",
   "pygments_lexer": "ipython3",
   "version": "3.13.3"
  }
 },
 "nbformat": 4,
 "nbformat_minor": 2
}
